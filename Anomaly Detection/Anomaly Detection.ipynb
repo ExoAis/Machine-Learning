{
 "cells": [
  {
   "cell_type": "code",
   "execution_count": 122,
   "id": "9f6fb17b",
   "metadata": {},
   "outputs": [],
   "source": [
    "import numpy as np\n",
    "import tensorflow as tf\n",
    "import matplotlib.pyplot as plt\n",
    "import pandas as pd\n",
    "from utils import *"
   ]
  },
  {
   "cell_type": "code",
   "execution_count": 375,
   "id": "017cbcde",
   "metadata": {},
   "outputs": [
    {
     "name": "stdout",
     "output_type": "stream",
     "text": [
      "(15830, 2) (5830, 2) (5830, 1)\n"
     ]
    }
   ],
   "source": [
    "x_train = pd.read_csv('C:/Users/Muhammad Darab/OneDrive/Desktop/Online Course Files/Machine Learning/Data Sets/AnomalyDetection/AnomalyDetection-Train.csv', usecols = ['TimeStamp', 'Value'])\n",
    "y_train = pd.read_csv('C:/Users/Muhammad Darab/OneDrive/Desktop/Online Course Files/Machine Learning/Data Sets/AnomalyDetection/AnomalyDetection-Train.csv', usecols = ['Is_Anomaly'])\n",
    "x_train = x_train.to_numpy()\n",
    "y_train = y_train.to_numpy()\n",
    "x_cv = x_train[10000:]\n",
    "y_cv = y_train[10000:]\n",
    "print(x_train.shape, x_cv.shape, y_cv.shape)"
   ]
  },
  {
   "cell_type": "code",
   "execution_count": 368,
   "id": "7ab88cda",
   "metadata": {},
   "outputs": [
    {
     "data": {
      "image/png": "[encoded data removed]",
      "text/plain": [
       "<Figure size 432x288 with 1 Axes>"
      ]
     },
     "metadata": {
      "needs_background": "light"
     },
     "output_type": "display_data"
    }
   ],
   "source": [
    "plt.scatter(x_train[:,0], x_train[:,1], marker='x', c='b') \n",
    "plt.title(\"The first dataset\")\n",
    "plt.xlabel('TimeStamp')\n",
    "plt.ylabel('Value')\n",
    "plt.show()"
   ]
  },
  {
   "cell_type": "code",
   "execution_count": 369,
   "id": "463d833f",
   "metadata": {},
   "outputs": [],
   "source": [
    "def gaussian(X):\n",
    "    m, n = X.shape\n",
    "    mu = []\n",
    "    var = []\n",
    "    for i in range(n):\n",
    "        su = 0\n",
    "        for j in range(m):\n",
    "            su += X[j][i]\n",
    "        mu.append(su / m)\n",
    "    for i in range(n):\n",
    "        su = 0\n",
    "        for j in range(m):\n",
    "            su += (X[j][i] - mu[i]) ** 2\n",
    "        var.append(su / m)\n",
    "    mu = np.array(mu)\n",
    "    var = np.array(var)\n",
    "    return mu, var   "
   ]
  },
  {
   "cell_type": "code",
   "execution_count": 370,
   "id": "7f6f1e95",
   "metadata": {},
   "outputs": [],
   "source": [
    "def probability(X, mu, var):\n",
    "    p = []\n",
    "    m, n = X.shape\n",
    "    for i in range(m):\n",
    "        product = 1\n",
    "        for j in range(n):\n",
    "            product = product * ((1 / (np.sqrt(2 * 3.142) * mu[j])) * (np.exp(-np.square(X[i][j] - mu[j]) / (2 * var[j]))))\n",
    "        p.append(product)\n",
    "    p = np.array(p)\n",
    "    return p"
   ]
  },
  {
   "cell_type": "code",
   "execution_count": 380,
   "id": "9b26e9b5",
   "metadata": {},
   "outputs": [],
   "source": [
    "def threshold(Y, p):\n",
    "    step_size = (max(p) - min(p)) / 1000\n",
    "    F1Scores = []\n",
    "    epsilons = []\n",
    "    for epsilon in np.arange(min(p), max(p), step_size):\n",
    "        y_pred = []\n",
    "        tp = 0\n",
    "        fp = 0\n",
    "        fn = 0\n",
    "        for i in range(len(Y)):\n",
    "            if p[i] >= epsilon:\n",
    "                y_pred.append(0)\n",
    "            else:\n",
    "                y_pred.append(1)\n",
    "        for i in range(len(y_pred)):\n",
    "            if y_pred[i] == Y[i] and y_pred[i] == 1:\n",
    "                tp += 1\n",
    "            elif Y[i] == 0 and y_pred[i] == 1:\n",
    "                fp += 1\n",
    "            elif Y[i] == 1 and y_pred[i] == 0:\n",
    "                fn += 1\n",
    "        if tp == 0:\n",
    "            F1Scores.append(0)\n",
    "            epsilons.append(epsilon)\n",
    "        else:\n",
    "            prec = tp / (tp + fp)\n",
    "            recall = tp / (tp + fn)\n",
    "            F1S = (2 * prec * recall) / (prec + recall)\n",
    "            F1Scores.append(F1S)\n",
    "            epsilons.append(epsilon)\n",
    "    return F1Scores, epsilons"
   ]
  },
  {
   "cell_type": "code",
   "execution_count": 381,
   "id": "413c8509",
   "metadata": {},
   "outputs": [],
   "source": [
    "def AnomalyDetection(x_tr, y_tr, x_c, y_c):\n",
    "    mu, var = gaussian(x_tr)\n",
    "    p = probability(x_c, mu, var)\n",
    "    F1Scores, epsilons = threshold(y_c, p)\n",
    "    F1Scores = np.array(F1Scores)\n",
    "    epsilons = np.array(epsilons)\n",
    "    optimal_epsilon = epsilons[np.argmax(F1Scores)]\n",
    "    F1Score, accu, anomalies = accuracy(p, y_c, optimal_epsilon)\n",
    "    print(\"The F1 Score and Accuracy of the Model respectively are\", round(F1Score * 100, 2), \"%\", \"and\", round(accu * 100, 2), \"%\")\n",
    "    print(\"Anomalies found are\", anomalies)\n",
    "    print(\"Actual anomalies are\", sum(y_c == 1))"
   ]
  },
  {
   "cell_type": "code",
   "execution_count": 382,
   "id": "fc8dd324",
   "metadata": {},
   "outputs": [],
   "source": [
    "def accuracy(p, Y, optimal_epsilon):\n",
    "    prec = 0\n",
    "    recall = 0\n",
    "    TP = 0\n",
    "    FP = 0\n",
    "    FN = 0\n",
    "    TN = 0\n",
    "    anomalies = 0\n",
    "    Y_ = []\n",
    "    for i in range(len(Y)):\n",
    "        if p[i] >= optimal_epsilon:\n",
    "            Y_.append(0)\n",
    "        else:\n",
    "            Y_.append(1)\n",
    "    for i in range(len(Y)):\n",
    "        if Y_[i] == Y[i] and Y_[i] == 1:\n",
    "            TP += 1\n",
    "        elif Y_[i] != Y[i] and Y_[i] == 1:\n",
    "            FP += 1\n",
    "        elif Y_[i] != Y[i] and Y_[i] == 0:\n",
    "            FN += 1\n",
    "        elif Y_[i] == Y[i] and Y_[i] == 0:\n",
    "            TN += 1\n",
    "    prec = TP / (TP + FP)\n",
    "    recall = TP / (TP + FN)\n",
    "    F1Score = (2 * prec * recall) / (prec + recall)\n",
    "    accuracy = (TP + TN) / (TP + FN + TN + FP)\n",
    "    for i in range(len(Y_)):\n",
    "        if Y_[i] == 1:\n",
    "            anomalies += 1\n",
    "    return F1Score, accuracy, anomalies"
   ]
  },
  {
   "cell_type": "code",
   "execution_count": 383,
   "id": "e5feb4d2",
   "metadata": {},
   "outputs": [
    {
     "name": "stdout",
     "output_type": "stream",
     "text": [
      "The F1 Score and Accuracy of the Model respectively are 39.06 % and 95.56 %\n",
      "Anomalies found are 110\n",
      "Actual anomalies are [315]\n"
     ]
    }
   ],
   "source": [
    "AnomalyDetection(x_train, y_train, x_cv, y_cv)"
   ]
  },
  {
   "cell_type": "code",
   "execution_count": 252,
   "id": "f44b8e88",
   "metadata": {},
   "outputs": [
    {
     "name": "stdout",
     "output_type": "stream",
     "text": [
      "(15000,) 7.82658021964725e-17\n"
     ]
    }
   ],
   "source": []
  },
  {
   "cell_type": "code",
   "execution_count": null,
   "id": "9c158341",
   "metadata": {},
   "outputs": [],
   "source": []
  }
 ],
 "metadata": {
  "kernelspec": {
   "display_name": "Python 3 (ipykernel)",
   "language": "python",
   "name": "python3"
  },
  "language_info": {
   "codemirror_mode": {
    "name": "ipython",
    "version": 3
   },
   "file_extension": ".py",
   "mimetype": "text/x-python",
   "name": "python",
   "nbconvert_exporter": "python",
   "pygments_lexer": "ipython3",
   "version": "3.10.1"
  }
 },
 "nbformat": 4,
 "nbformat_minor": 5
}
