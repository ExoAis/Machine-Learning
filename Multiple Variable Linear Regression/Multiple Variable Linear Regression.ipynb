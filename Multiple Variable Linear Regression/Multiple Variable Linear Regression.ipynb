{
 "cells": [
  {
   "cell_type": "code",
   "execution_count": 72,
   "id": "f3160514",
   "metadata": {},
   "outputs": [],
   "source": [
    "import numpy as np\n",
    "import tensorflow as tf\n",
    "import matplotlib.pyplot as plt\n",
    "import pandas as pd"
   ]
  },
  {
   "cell_type": "code",
   "execution_count": 73,
   "id": "96544f97",
   "metadata": {},
   "outputs": [],
   "source": [
    "x_train = pd.read_csv('C:/Users/Muhammad Darab/OneDrive/Desktop/Online Course Files/Machine Learning/Data Sets/MultipleVariableLinearRegression/MulVarLinReg.csv', usecols = [' Humi', ' WindSp', 'WindBe', 'Visi', 'Pres'])\n",
    "y_train = pd.read_csv('C:/Users/Muhammad Darab/OneDrive/Desktop/Online Course Files/Machine Learning/Data Sets/MultipleVariableLinearRegression/MulVarLinReg.csv', usecols = [' Temp'])\n",
    "x_train = x_train.to_numpy()\n",
    "y_train = y_train.to_numpy()"
   ]
  },
  {
   "cell_type": "code",
   "execution_count": 74,
   "id": "b4bbe8c2",
   "metadata": {},
   "outputs": [],
   "source": [
    "mu = np.mean(x_train)\n",
    "std = np.std(x_train)\n",
    "for i in range(len(x_train)):\n",
    "    x_train[i] = (x_train[i] - mu) / std"
   ]
  },
  {
   "cell_type": "code",
   "execution_count": 75,
   "id": "36266929",
   "metadata": {},
   "outputs": [],
   "source": [
    "def costFunc(W, b, X, Y, lambda_):\n",
    "    m, n = X.shape\n",
    "    cost = 0\n",
    "    regu = 0\n",
    "    J_pred = []\n",
    "    for i in range(len(W)):\n",
    "        regu += (W[i]) ** 2\n",
    "    regu = (lambda_ / (2 * m)) * regu\n",
    "    for i in range(m):\n",
    "        f_x = np.dot(W, X[i]) + b\n",
    "        J_pred.append(f_x)\n",
    "        cost += (f_x - Y[i]) ** 2\n",
    "    cost = ((1 / (2 * m)) * cost) + regu\n",
    "    return cost, J_pred"
   ]
  },
  {
   "cell_type": "code",
   "execution_count": 76,
   "id": "fe65db72",
   "metadata": {},
   "outputs": [],
   "source": [
    "W_in = np.array([-3.22046489, -1.08109094,  0.76013452,  0.24624217,  3.3045494])"
   ]
  },
  {
   "cell_type": "code",
   "execution_count": 77,
   "id": "3a8d775c",
   "metadata": {},
   "outputs": [],
   "source": [
    "def calcGradients(W, b, X, Y, lambda_):\n",
    "    m, n = X.shape\n",
    "    dJ_dw = 0\n",
    "    dJ_db = 0\n",
    "    regu = 0\n",
    "    for i in range(len(W)):\n",
    "        regu += (W[i])\n",
    "    regu = (lambda_ / (m)) * regu\n",
    "    for i in range(m):\n",
    "        f_x = np.dot(W, X[i]) + b\n",
    "        dJ_dw += (f_x - Y[i]) * X[i]\n",
    "        dJ_db += (f_x - Y[i])\n",
    "    dJ_dw = ((1 / m) * dJ_dw) + regu\n",
    "    dJ_db = (1 / m) * dJ_db\n",
    "    return dJ_dw, dJ_db"
   ]
  },
  {
   "cell_type": "code",
   "execution_count": 81,
   "id": "67111241",
   "metadata": {},
   "outputs": [],
   "source": [
    "def gradientDescent(iterations, W, b, X, Y, lambda_, alpha):\n",
    "    for i in range(iterations):\n",
    "        dJ_dw, dJ_db = calcGradients(W, b, X, Y, lambda_)\n",
    "        W = W - alpha * dJ_dw\n",
    "        b = b - alpha * dJ_db\n",
    "        if (i % 5 == 0):\n",
    "            J, y_pred = costFunc(W, b, X, Y, lambda_)\n",
    "            print(\"The cost at\", i, \"iteration is\", J)\n",
    "    return W, b"
   ]
  },
  {
   "cell_type": "code",
   "execution_count": 95,
   "id": "a1158d6d",
   "metadata": {},
   "outputs": [
    {
     "name": "stdout",
     "output_type": "stream",
     "text": [
      "The cost at 0 iteration is [59.56477441]\n",
      "The cost at 5 iteration is [46.02677388]\n",
      "The cost at 10 iteration is [46.00749864]\n",
      "The cost at 15 iteration is [45.99558723]\n",
      "The cost at 20 iteration is [45.98399266]\n",
      "The cost at 25 iteration is [45.97270258]\n",
      "The cost at 30 iteration is [45.96170853]\n",
      "The cost at 35 iteration is [45.95100231]\n",
      "The cost at 40 iteration is [45.94057593]\n",
      "The cost at 45 iteration is [45.93042162]\n",
      "The cost at 50 iteration is [45.92053185]\n",
      "The cost at 55 iteration is [45.91089927]\n",
      "The cost at 60 iteration is [45.90151675]\n",
      "The cost at 65 iteration is [45.89237736]\n",
      "The cost at 70 iteration is [45.88347436]\n",
      "The cost at 75 iteration is [45.8748012]\n",
      "The cost at 80 iteration is [45.86635149]\n",
      "The cost at 85 iteration is [45.85811904]\n",
      "The cost at 90 iteration is [45.85009784]\n",
      "The cost at 95 iteration is [45.84228203]\n",
      "Optimum parameters are [-2.68293565 -0.56989475  0.82304294  0.76350193  2.4152962 ] [5.75978425]\n"
     ]
    }
   ],
   "source": [
    "W, b = gradientDescent(100, W_in, 3.06694071, x_train, y_train, 0.01, 0.09)\n",
    "print(\"Optimum parameters are\", W, b)"
   ]
  },
  {
   "cell_type": "code",
   "execution_count": null,
   "id": "5bae3a58",
   "metadata": {},
   "outputs": [],
   "source": []
  },
  {
   "cell_type": "code",
   "execution_count": null,
   "id": "71a24b36",
   "metadata": {},
   "outputs": [],
   "source": []
  },
  {
   "cell_type": "code",
   "execution_count": null,
   "id": "315f2fcf",
   "metadata": {},
   "outputs": [],
   "source": []
  }
 ],
 "metadata": {
  "kernelspec": {
   "display_name": "Python 3 (ipykernel)",
   "language": "python",
   "name": "python3"
  },
  "language_info": {
   "codemirror_mode": {
    "name": "ipython",
    "version": 3
   },
   "file_extension": ".py",
   "mimetype": "text/x-python",
   "name": "python",
   "nbconvert_exporter": "python",
   "pygments_lexer": "ipython3",
   "version": "3.10.7"
  }
 },
 "nbformat": 4,
 "nbformat_minor": 5
}
