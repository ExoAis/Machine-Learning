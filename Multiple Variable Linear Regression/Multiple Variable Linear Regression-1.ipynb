{
 "cells": [
  {
   "cell_type": "code",
   "execution_count": 1,
   "id": "f908e4c9",
   "metadata": {},
   "outputs": [],
   "source": [
    "import numpy as np\n",
    "import tensorflow as tf\n",
    "import matplotlib.pyplot as plt\n",
    "import pandas as pd"
   ]
  },
  {
   "cell_type": "code",
   "execution_count": 2,
   "id": "98ee75cb",
   "metadata": {},
   "outputs": [],
   "source": [
    "x_train = pd.read_csv('C:/Users/Muhammad Darab/OneDrive/Desktop/Online Course Files/Machine Learning/Data Sets/MultipleVariableLinearRegression/MulVarLinReg-1-TrainingSet.csv', usecols = ['Area', 'BedRs', 'BathRs', 'Stories', 'MainRo', 'GuestR', 'BaseM', 'HotWH', 'AC', 'Parking', 'PreFarA', 'FurnishSt'])\n",
    "y_train = pd.read_csv('C:/Users/Muhammad Darab/OneDrive/Desktop/Online Course Files/Machine Learning/Data Sets/MultipleVariableLinearRegression/MulVarLinReg-1-TrainingSet.csv', usecols = ['Price'])\n",
    "x_test = pd.read_csv('C:/Users/Muhammad Darab/OneDrive/Desktop/Online Course Files/Machine Learning/Data Sets/MultipleVariableLinearRegression/MulVarLinReg-1-TestSet.csv', usecols = ['Area', 'BedRs', 'BathRs', 'Stories', 'MainRo', 'GuestR', 'BaseM', 'HotWH', 'AC', 'Parking', 'PreFarA', 'FurnishSt'])\n",
    "y_test = pd.read_csv('C:/Users/Muhammad Darab/OneDrive/Desktop/Online Course Files/Machine Learning/Data Sets/MultipleVariableLinearRegression/MulVarLinReg-1-TestSet.csv', usecols = ['Price'])\n",
    "x_train = x_train.to_numpy()\n",
    "y_train = y_train.to_numpy()\n",
    "x_test = x_test.to_numpy()\n",
    "y_test = y_test.to_numpy()"
   ]
  },
  {
   "cell_type": "code",
   "execution_count": 3,
   "id": "04b0c100",
   "metadata": {},
   "outputs": [
    {
     "name": "stdout",
     "output_type": "stream",
     "text": [
      "(399, 12) (399, 1) (146, 12) (146, 1)\n"
     ]
    }
   ],
   "source": [
    "\n",
    "print(x_train.shape, y_train.shape, x_test.shape, y_test.shape)"
   ]
  },
  {
   "cell_type": "code",
   "execution_count": 4,
   "id": "8e7a9c05",
   "metadata": {},
   "outputs": [],
   "source": [
    "def costFunc(W, b, X, Y, lambda_):\n",
    "    m, n = X.shape\n",
    "    cost = 0\n",
    "    regu = 0\n",
    "    J_pred = []\n",
    "    for i in range(len(W)):\n",
    "        regu += (W[i]) ** 2\n",
    "    regu = (lambda_ / (2 * m)) * regu\n",
    "    for i in range(m):\n",
    "        f_x = np.dot(W, X[i]) + b\n",
    "        J_pred.append(f_x)\n",
    "        cost += (f_x - Y[i]) ** 2\n",
    "    cost = ((1 / (2 * m)) * cost) + regu\n",
    "    return cost, J_pred"
   ]
  },
  {
   "cell_type": "code",
   "execution_count": 5,
   "id": "bfd9e709",
   "metadata": {},
   "outputs": [],
   "source": [
    "W_in = np.array([-1, -2, 1, 1.5, 0.5, -2, 1, -1, 2, -2, 1, 1])"
   ]
  },
  {
   "cell_type": "code",
   "execution_count": 6,
   "id": "0a88e432",
   "metadata": {},
   "outputs": [],
   "source": [
    "def calcGradients(W, b, X, Y, lambda_):\n",
    "    m, n = X.shape\n",
    "    dJ_dw = 0\n",
    "    dJ_db = 0\n",
    "    regu = 0\n",
    "    for i in range(len(W)):\n",
    "        regu += (W[i])\n",
    "    regu = (lambda_ / (m)) * regu\n",
    "    for i in range(m):\n",
    "        f_x = np.dot(W, X[i]) + b\n",
    "        dJ_dw += (f_x - Y[i]) * X[i]\n",
    "        dJ_db += (f_x - Y[i])\n",
    "    dJ_dw = ((1 / m) * dJ_dw) + regu\n",
    "    dJ_db = (1 / m) * dJ_db\n",
    "    return dJ_dw, dJ_db"
   ]
  },
  {
   "cell_type": "code",
   "execution_count": 7,
   "id": "b60efa96",
   "metadata": {},
   "outputs": [],
   "source": [
    "def gradientDescent(iterations, W, b, X, Y, lambda_, alpha):\n",
    "    for i in range(iterations):\n",
    "        dJ_dw, dJ_db = calcGradients(W, b, X, Y, lambda_)\n",
    "        W = W - alpha * dJ_dw\n",
    "        b = b - alpha * dJ_db\n",
    "        if (i % 500 == 0):\n",
    "            J, y_pred = costFunc(W, b, X, Y, lambda_)\n",
    "            print(\"The cost at\", i, \"iteration is\", J)\n",
    "    return W, b"
   ]
  },
  {
   "cell_type": "code",
   "execution_count": 8,
   "id": "bb4c9671",
   "metadata": {},
   "outputs": [
    {
     "name": "stdout",
     "output_type": "stream",
     "text": [
      "The cost at 0 iteration is [6.86449441]\n",
      "The cost at 500 iteration is [0.65040833]\n",
      "The cost at 1000 iteration is [0.60805378]\n",
      "The cost at 1500 iteration is [0.60443631]\n",
      "The cost at 2000 iteration is [0.60351862]\n",
      "The cost at 2500 iteration is [0.60307562]\n",
      "The cost at 3000 iteration is [0.60280602]\n",
      "The cost at 3500 iteration is [0.60263205]\n",
      "The cost at 4000 iteration is [0.60251824]\n",
      "The cost at 4500 iteration is [0.60244352]\n",
      "The cost at 5000 iteration is [0.60239437]\n",
      "The cost at 5500 iteration is [0.60236201]\n",
      "The cost at 6000 iteration is [0.60234066]\n",
      "The cost at 6500 iteration is [0.60232657]\n",
      "The cost at 7000 iteration is [0.60231723]\n",
      "The cost at 7500 iteration is [0.60231104]\n",
      "The cost at 8000 iteration is [0.60230692]\n",
      "The cost at 8500 iteration is [0.60230417]\n",
      "The cost at 9000 iteration is [0.60230233]\n",
      "The cost at 9500 iteration is [0.60230108]\n",
      "Optimum parameters are [0.13212609 0.91081559 0.45737517 0.5516777  0.25123277 0.33962595\n",
      " 0.81814331 0.73303254 0.2844976  0.57662415 0.07493618 0.22535119] [0.11479869]\n"
     ]
    }
   ],
   "source": [
    "W, b = gradientDescent(10000, W_in, 1, x_train, y_train, 0.008, 0.02)\n",
    "print(\"Optimum parameters are\", W, b)"
   ]
  },
  {
   "cell_type": "code",
   "execution_count": 9,
   "id": "1e69585b",
   "metadata": {},
   "outputs": [],
   "source": [
    "J, y_pred = costFunc(W, b, x_test, y_test, 0.008)\n",
    "def accuracy(Y_, Y):\n",
    "    accu = []\n",
    "    for i in range(len(Y)):\n",
    "        accu.append(abs((Y_[i] - Y[i]) / Y[i]))\n",
    "    return np.mean(accu)"
   ]
  },
  {
   "cell_type": "code",
   "execution_count": 10,
   "id": "2a9e290c",
   "metadata": {},
   "outputs": [
    {
     "name": "stdout",
     "output_type": "stream",
     "text": [
      "The accuracy of the House Price Prediction Model on Test Set is 69 %\n"
     ]
    }
   ],
   "source": [
    "print(\"The accuracy of the House Price Prediction Model on Test Set is\", round(100 - accuracy(y_pred, y_test) * 100), \"%\")"
   ]
  },
  {
   "cell_type": "code",
   "execution_count": 11,
   "id": "2e61c57f",
   "metadata": {},
   "outputs": [
    {
     "name": "stdout",
     "output_type": "stream",
     "text": [
      "The accuracy of the House Price Prediction Model on Training Set is 85 %\n"
     ]
    }
   ],
   "source": [
    "J, y_pred = costFunc(W, b, x_train, y_train, 0.008)\n",
    "print(\"The accuracy of the House Price Prediction Model on Training Set is\", round(100 - accuracy(y_pred, y_train) * 100), \"%\")"
   ]
  },
  {
   "cell_type": "code",
   "execution_count": null,
   "id": "5836bde2",
   "metadata": {},
   "outputs": [],
   "source": []
  },
  {
   "cell_type": "code",
   "execution_count": null,
   "id": "4f5cd451",
   "metadata": {},
   "outputs": [],
   "source": []
  }
 ],
 "metadata": {
  "kernelspec": {
   "display_name": "Python 3 (ipykernel)",
   "language": "python",
   "name": "python3"
  },
  "language_info": {
   "codemirror_mode": {
    "name": "ipython",
    "version": 3
   },
   "file_extension": ".py",
   "mimetype": "text/x-python",
   "name": "python",
   "nbconvert_exporter": "python",
   "pygments_lexer": "ipython3",
   "version": "3.10.7"
  }
 },
 "nbformat": 4,
 "nbformat_minor": 5
}
