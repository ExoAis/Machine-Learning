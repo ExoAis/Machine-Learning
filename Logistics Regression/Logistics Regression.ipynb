{
 "cells": [
  {
   "cell_type": "code",
   "execution_count": 1,
   "id": "0cb9df50",
   "metadata": {},
   "outputs": [],
   "source": [
    "import numpy as np\n",
    "import tensorflow as tf\n",
    "import matplotlib.pyplot as plt\n",
    "import pandas as pd"
   ]
  },
  {
   "cell_type": "code",
   "execution_count": 2,
   "id": "f16bc3d1",
   "metadata": {},
   "outputs": [],
   "source": [
    "y_train = pd.read_csv('C:/Users/Muhammad Darab/OneDrive/Desktop/Online Course Files/Machine Learning/Data Sets/LogisticsRegression/LogReg.csv', usecols = ['Choc'])\n",
    "x_train = pd.read_csv('C:/Users/Muhammad Darab/OneDrive/Desktop/Online Course Files/Machine Learning/Data Sets/LogisticsRegression/LogReg.csv', usecols = ['SugarPer', 'PricePer', 'WinPer'])\n",
    "x_train = x_train.to_numpy()\n",
    "y_train = y_train.to_numpy()"
   ]
  },
  {
   "cell_type": "code",
   "execution_count": 3,
   "id": "e39f9e9a",
   "metadata": {},
   "outputs": [],
   "source": [
    "def sigmoid(z):\n",
    "    sigmoid = 1 / (1 + np.exp(-z))\n",
    "    return sigmoid"
   ]
  },
  {
   "cell_type": "code",
   "execution_count": 4,
   "id": "9bfbd7e5",
   "metadata": {},
   "outputs": [],
   "source": [
    "def costFunc(W, X, Y, b, lambda_):\n",
    "    m, n = X.shape\n",
    "    J = 0\n",
    "    regu = 0\n",
    "    f_x = []\n",
    "    y_pred = []\n",
    "    for i in range(len(W)):\n",
    "        regu += (W[i]) ** 2\n",
    "    regu = (lambda_ / (2 * m)) * regu\n",
    "    for i in range(m):\n",
    "        z = np.dot(W, X[i]) + b\n",
    "        y_pred.append(sigmoid(z))\n",
    "        f_x.append(sigmoid(z))\n",
    "        J += (Y[i]) * np.log(f_x[i]) + (1 - Y[i]) * np.log(1 - f_x[i])\n",
    "    J = ((-1 / m) * J) + regu\n",
    "    return J, y_pred"
   ]
  },
  {
   "cell_type": "code",
   "execution_count": 5,
   "id": "a886c0bf",
   "metadata": {},
   "outputs": [],
   "source": [
    "W_in = np.array([0, 0, 0])\n",
    "mu = np.mean(x_train)\n",
    "std = np.std(x_train)\n",
    "for i in range(len(x_train)):\n",
    "    x_train[i] = (x_train[i] - mu) / std"
   ]
  },
  {
   "cell_type": "code",
   "execution_count": 6,
   "id": "87110ade",
   "metadata": {},
   "outputs": [],
   "source": [
    "def gradients(W, X, Y, b, lambda_):\n",
    "    dJ_dw = 0\n",
    "    dJ_db = 0\n",
    "    regu = 0\n",
    "    f_x = []\n",
    "    m, n = X.shape\n",
    "    for i in range(len(W)):\n",
    "        regu += (W[i])\n",
    "    regu = (lambda_ / (m)) * regu\n",
    "    for i in range(m):\n",
    "        z = np.dot(W, X[i]) + b\n",
    "        f_x.append(sigmoid(z))\n",
    "        dJ_dw += (f_x[i] - Y[i]) * X[i]\n",
    "        dJ_db += (f_x[i] - Y[i])\n",
    "    dJ_dw = dJ_dw / m\n",
    "    dJ_db = dJ_db / m\n",
    "    return dJ_dw, dJ_db"
   ]
  },
  {
   "cell_type": "code",
   "execution_count": 7,
   "id": "88c7c962",
   "metadata": {},
   "outputs": [],
   "source": [
    "def gradientDescent(iterations, W, X, Y, b, lambda_, alpha):\n",
    "    for i in range(iterations):\n",
    "        dJ_dw, dJ_db = gradients(W, X, Y, b, lambda_)\n",
    "        W = W - alpha * dJ_dw\n",
    "        b = b - alpha * dJ_db\n",
    "        if i % 50 == 0:\n",
    "            J,y_pred = costFunc(W, X ,Y, b, lambda_)\n",
    "            print('Cost at', i, 'iteration is', J)\n",
    "    return W, b"
   ]
  },
  {
   "cell_type": "code",
   "execution_count": 17,
   "id": "de7cb82a",
   "metadata": {},
   "outputs": [
    {
     "name": "stdout",
     "output_type": "stream",
     "text": [
      "Cost at 0 iteration is [0.69225063]\n",
      "Cost at 50 iteration is [0.65218596]\n",
      "Cost at 100 iteration is [0.61987252]\n",
      "Cost at 150 iteration is [0.59365864]\n",
      "Cost at 200 iteration is [0.57225442]\n",
      "Cost at 250 iteration is [0.55464752]\n",
      "Cost at 300 iteration is [0.54005218]\n",
      "Cost at 350 iteration is [0.52786074]\n",
      "Cost at 400 iteration is [0.51760258]\n",
      "Cost at 450 iteration is [0.50891159]\n",
      "Cost at 500 iteration is [0.50150113]\n",
      "Cost at 550 iteration is [0.49514516]\n",
      "Cost at 600 iteration is [0.48966401]\n",
      "Cost at 650 iteration is [0.48491376]\n",
      "Cost at 700 iteration is [0.4807782]\n",
      "Cost at 750 iteration is [0.47716284]\n",
      "Cost at 800 iteration is [0.47399021]\n",
      "Cost at 850 iteration is [0.47119643]\n",
      "Cost at 900 iteration is [0.46872845]\n",
      "Cost at 950 iteration is [0.46654194]\n",
      "Cost at 1000 iteration is [0.46459967]\n",
      "Cost at 1050 iteration is [0.46287016]\n",
      "Cost at 1100 iteration is [0.46132669]\n",
      "Cost at 1150 iteration is [0.45994645]\n",
      "Cost at 1200 iteration is [0.4587099]\n",
      "Cost at 1250 iteration is [0.4576002]\n",
      "Cost at 1300 iteration is [0.45660282]\n",
      "Cost at 1350 iteration is [0.45570514]\n",
      "Cost at 1400 iteration is [0.45489618]\n",
      "Cost at 1450 iteration is [0.45416633]\n",
      "Cost at 1500 iteration is [0.45350721]\n",
      "Cost at 1550 iteration is [0.45291141]\n",
      "Cost at 1600 iteration is [0.45237243]\n",
      "Cost at 1650 iteration is [0.45188452]\n",
      "Cost at 1700 iteration is [0.45144257]\n",
      "Cost at 1750 iteration is [0.45104207]\n",
      "Cost at 1800 iteration is [0.45067899]\n",
      "Cost at 1850 iteration is [0.45034973]\n",
      "Cost at 1900 iteration is [0.45005109]\n",
      "Cost at 1950 iteration is [0.4497802]\n",
      "Cost at 2000 iteration is [0.44953448]\n",
      "Cost at 2050 iteration is [0.44931161]\n",
      "Cost at 2100 iteration is [0.44910951]\n",
      "Cost at 2150 iteration is [0.44892631]\n",
      "Cost at 2200 iteration is [0.4487603]\n",
      "Cost at 2250 iteration is [0.44860997]\n",
      "Cost at 2300 iteration is [0.44847392]\n",
      "Cost at 2350 iteration is [0.4483509]\n",
      "Cost at 2400 iteration is [0.44823978]\n",
      "Cost at 2450 iteration is [0.4481395]\n",
      "Cost at 2500 iteration is [0.44804915]\n",
      "Cost at 2550 iteration is [0.44796785]\n",
      "Cost at 2600 iteration is [0.44789484]\n",
      "Cost at 2650 iteration is [0.44782939]\n",
      "Cost at 2700 iteration is [0.44777087]\n",
      "Cost at 2750 iteration is [0.44771868]\n",
      "Cost at 2800 iteration is [0.44767228]\n",
      "Cost at 2850 iteration is [0.44763117]\n",
      "Cost at 2900 iteration is [0.44759491]\n",
      "Cost at 2950 iteration is [0.44756307]\n",
      "Cost at 3000 iteration is [0.44753529]\n",
      "Cost at 3050 iteration is [0.4475112]\n",
      "Cost at 3100 iteration is [0.44749049]\n",
      "Cost at 3150 iteration is [0.44747287]\n",
      "Cost at 3200 iteration is [0.44745807]\n",
      "Cost at 3250 iteration is [0.44744585]\n",
      "Cost at 3300 iteration is [0.44743596]\n",
      "Cost at 3350 iteration is [0.44742822]\n",
      "Cost at 3400 iteration is [0.44742242]\n",
      "Cost at 3450 iteration is [0.44741839]\n",
      "Cost at 3500 iteration is [0.44741597]\n",
      "Cost at 3550 iteration is [0.44741501]\n",
      "Best parameters are [1.5042703  1.82854553 3.14599235] [-2.29334729]\n"
     ]
    }
   ],
   "source": [
    "W, b = gradientDescent(3551, W_in, x_train, y_train, 0, 0.1, 0.05)\n",
    "print('Best parameters are', W, b)"
   ]
  },
  {
   "cell_type": "code",
   "execution_count": 18,
   "id": "f63c59d4",
   "metadata": {},
   "outputs": [],
   "source": [
    "J, y_pred = costFunc(W, x_train, y_train, b, 0.1)\n",
    "for i in range(len(y_pred)):\n",
    "    if y_pred[i] >= 0.5:\n",
    "        y_pred[i] = 1\n",
    "    else:\n",
    "        y_pred[i] = 0"
   ]
  },
  {
   "cell_type": "code",
   "execution_count": 19,
   "id": "64a3826e",
   "metadata": {},
   "outputs": [],
   "source": [
    "def F1Score(Y_, Y):\n",
    "    prec = 0\n",
    "    recall = 0\n",
    "    TP = 0\n",
    "    FP = 0\n",
    "    FN = 0\n",
    "    TN = 0\n",
    "    for i in range(len(Y)):\n",
    "        if Y_[i] == Y[i] and Y_[i] == 1:\n",
    "            TP += 1\n",
    "        elif Y_[i] != Y[i] and Y_[i] == 1:\n",
    "            FP += 1\n",
    "        elif Y_[i] != Y[i] and Y_[i] == 0:\n",
    "            FN += 1\n",
    "        elif Y_[i] == Y[i] and Y_[i] == 0:\n",
    "            TN += 1\n",
    "    prec = TP / (TP + FP)\n",
    "    recall = TP / (TP + FN)\n",
    "    F1Score = (2 * prec * recall) / (prec + recall)\n",
    "    accuracy = (TP + TN) / (TP + FN + TN + FP)\n",
    "    return F1Score, accuracy"
   ]
  },
  {
   "cell_type": "code",
   "execution_count": 20,
   "id": "78125ae8",
   "metadata": {},
   "outputs": [
    {
     "name": "stdout",
     "output_type": "stream",
     "text": [
      "F1 Score and Accuracy of the Model is 76.06 % and 80.0 % respectively\n"
     ]
    }
   ],
   "source": [
    "F1Score, Accuracy = F1Score(y_pred, y_train)\n",
    "print(\"F1 Score and Accuracy of the Model is\", round(F1Score * 100, 2), \"%\", \"and\", round(Accuracy * 100, 2), \"%\", \"respectively\")"
   ]
  },
  {
   "cell_type": "code",
   "execution_count": 50,
   "id": "a8d3a1e5",
   "metadata": {},
   "outputs": [
    {
     "name": "stdout",
     "output_type": "stream",
     "text": [
      "1 [1]\n",
      "1 [1]\n",
      "0 [0]\n",
      "0 [0]\n",
      "0 [0]\n",
      "1 [1]\n",
      "1 [1]\n",
      "0 [0]\n",
      "0 [0]\n",
      "0 [0]\n",
      "0 [1]\n",
      "0 [0]\n",
      "0 [0]\n",
      "0 [0]\n",
      "0 [0]\n",
      "0 [0]\n",
      "0 [0]\n",
      "0 [0]\n",
      "1 [0]\n",
      "0 [0]\n",
      "0 [0]\n",
      "0 [0]\n",
      "0 [1]\n",
      "1 [1]\n",
      "1 [1]\n",
      "1 [1]\n",
      "0 [0]\n",
      "1 [1]\n",
      "1 [1]\n",
      "0 [0]\n",
      "0 [0]\n",
      "0 [0]\n",
      "1 [1]\n",
      "1 [1]\n",
      "0 [0]\n",
      "1 [1]\n",
      "1 [1]\n",
      "1 [1]\n",
      "1 [1]\n",
      "1 [1]\n",
      "1 [1]\n",
      "0 [0]\n",
      "1 [1]\n",
      "1 [1]\n",
      "0 [0]\n",
      "0 [0]\n",
      "1 [0]\n",
      "1 [1]\n",
      "0 [0]\n",
      "0 [0]\n",
      "0 [0]\n",
      "1 [1]\n",
      "1 [1]\n",
      "1 [1]\n",
      "1 [1]\n",
      "0 [0]\n",
      "1 [1]\n",
      "0 [0]\n",
      "0 [0]\n",
      "0 [1]\n",
      "0 [0]\n",
      "0 [0]\n",
      "1 [1]\n",
      "0 [0]\n",
      "1 [1]\n",
      "1 [1]\n",
      "1 [0]\n",
      "0 [0]\n",
      "1 [0]\n",
      "0 [0]\n",
      "0 [0]\n",
      "0 [0]\n",
      "0 [0]\n",
      "1 [0]\n",
      "0 [1]\n",
      "0 [1]\n",
      "0 [1]\n",
      "0 [1]\n",
      "0 [0]\n",
      "1 [1]\n",
      "0 [0]\n",
      "0 [0]\n",
      "0 [0]\n",
      "0 [0]\n",
      "1 [1]\n"
     ]
    }
   ],
   "source": [
    "for i in range(len(y_pred)):\n",
    "    print(y_pred[i], y_train[i])"
   ]
  },
  {
   "cell_type": "code",
   "execution_count": null,
   "id": "64b59fa0",
   "metadata": {},
   "outputs": [],
   "source": []
  },
  {
   "cell_type": "code",
   "execution_count": null,
   "id": "753330cf",
   "metadata": {},
   "outputs": [],
   "source": []
  },
  {
   "cell_type": "code",
   "execution_count": null,
   "id": "341a8294",
   "metadata": {},
   "outputs": [],
   "source": []
  }
 ],
 "metadata": {
  "kernelspec": {
   "display_name": "Python 3 (ipykernel)",
   "language": "python",
   "name": "python3"
  },
  "language_info": {
   "codemirror_mode": {
    "name": "ipython",
    "version": 3
   },
   "file_extension": ".py",
   "mimetype": "text/x-python",
   "name": "python",
   "nbconvert_exporter": "python",
   "pygments_lexer": "ipython3",
   "version": "3.10.7"
  }
 },
 "nbformat": 4,
 "nbformat_minor": 5
}
