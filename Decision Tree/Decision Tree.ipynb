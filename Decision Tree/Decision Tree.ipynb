{
 "cells": [
  {
   "cell_type": "code",
   "execution_count": 6,
   "id": "dc6594b2",
   "metadata": {},
   "outputs": [],
   "source": [
    "import numpy as np\n",
    "import tensorflow as tf\n",
    "from tensorflow.keras.models import Sequential\n",
    "from tensorflow.keras.layers import Dense\n",
    "from tensorflow.keras.activations import linear, relu, sigmoid\n",
    "from mlxtend.data import loadlocal_mnist\n",
    "from sklearn import datasets\n",
    "import matplotlib.pyplot as plt\n",
    "import pandas as pd"
   ]
  },
  {
   "cell_type": "code",
   "execution_count": 7,
   "id": "455697c0",
   "metadata": {},
   "outputs": [
    {
     "name": "stdout",
     "output_type": "stream",
     "text": [
      "[[1 1 1 ... 0 1 0]\n",
      " [1 0 0 ... 1 0 1]\n",
      " [0 1 0 ... 0 0 0]\n",
      " ...\n",
      " [1 0 0 ... 1 1 1]\n",
      " [1 0 1 ... 1 0 1]\n",
      " [1 1 1 ... 1 0 1]]\n"
     ]
    }
   ],
   "source": [
    "x_train = pd.read_csv('C:/Users/Muhammad Darab/OneDrive/Desktop/Online Course Files/Machine Learning/Data Sets/DecisionTree/DecisionTree.csv', usecols = ['Sales', 'CompPrice', 'Income', 'Advertising', 'Population', 'Price', 'ShelveLoc', 'Age', 'Education'])\n",
    "y_train = pd.read_csv('C:/Users/Muhammad Darab/OneDrive/Desktop/Online Course Files/Machine Learning/Data Sets/DecisionTree/DecisionTree.csv', usecols = ['Urban'])\n",
    "x_train_1 = pd.read_csv('C:/Users/Muhammad Darab/OneDrive/Desktop/Online Course Files/Machine Learning/Data Sets/DecisionTree/DecisionTree-1.csv', usecols = ['Brown Cap', 'Stalk Shape', 'Solitary'])\n",
    "y_train_1 = pd.read_csv('C:/Users/Muhammad Darab/OneDrive/Desktop/Online Course Files/Machine Learning/Data Sets/DecisionTree/DecisionTree-1.csv', usecols = ['Edible'])\n",
    "x_train = x_train.to_numpy()\n",
    "y_train = y_train.to_numpy()\n",
    "x_train_1 = x_train_1.to_numpy()\n",
    "y_train_1 = y_train_1.to_numpy()\n",
    "m, n = x_train.shape\n",
    "for i in range(m):\n",
    "    for j in range(n):\n",
    "        if x_train[i][j] == True:\n",
    "            x_train[i][j] = 1\n",
    "        elif x_train[i][j] == False:\n",
    "            x_train[i][j] = 0\n",
    "x_train = x_train[:181]\n",
    "y_train = y_train[:181]\n",
    "x_train = x_train[:130]\n",
    "y_train = y_train[:130]"
   ]
  },
  {
   "cell_type": "code",
   "execution_count": 143,
   "id": "4eb64318",
   "metadata": {},
   "outputs": [],
   "source": [
    "def entropy(Y):\n",
    "    m = len(Y)\n",
    "    if m == 0:\n",
    "        return 0\n",
    "    p_1 = 0\n",
    "    for i in range(m):\n",
    "        if Y[i] == 1:\n",
    "            p_1 += 1\n",
    "    p_1 = p_1 / m\n",
    "    if p_1 == 0 or p_1 == 1:\n",
    "        return 0\n",
    "    entropy = -(p_1) * np.log2(p_1) - (1 - p_1) * np.log2(1 - p_1)\n",
    "    return entropy"
   ]
  },
  {
   "cell_type": "code",
   "execution_count": 144,
   "id": "014b3de6",
   "metadata": {},
   "outputs": [],
   "source": [
    "def splitDataSet(X, node_indices, feature):\n",
    "    left_indices = []\n",
    "    right_indices = []\n",
    "    for i in node_indices:\n",
    "        if X[i][feature] == 1:\n",
    "            left_indices.append(i)\n",
    "        elif X[i][feature] == 0:\n",
    "            right_indices.append(i)\n",
    "    return left_indices, right_indices"
   ]
  },
  {
   "cell_type": "code",
   "execution_count": 145,
   "id": "1d4b0d33",
   "metadata": {},
   "outputs": [],
   "source": [
    "node_indices = []\n",
    "node_indices_1 = []\n",
    "for i in range(len(x_train)):\n",
    "    node_indices.append(i)\n",
    "for i in range(len(x_train_1)):\n",
    "    node_indices_1.append(i)"
   ]
  },
  {
   "cell_type": "code",
   "execution_count": 146,
   "id": "a43c4e98",
   "metadata": {},
   "outputs": [],
   "source": [
    "def informationGain(X, Y, node_indices, feature):\n",
    "    left_indices, right_indices = splitDataSet(X, node_indices, feature)\n",
    "    X_node, y_node = X[node_indices], Y[node_indices]\n",
    "    X_left, y_left = X[left_indices], Y[left_indices]\n",
    "    X_right, y_right = X[right_indices], Y[right_indices]\n",
    "    if len(X_left) == 0 or len(X_right) == 0:\n",
    "        return 0\n",
    "    p_1_l = y_left\n",
    "    p_1_r = y_right\n",
    "    w_l = len(X_left) / len(X_node)\n",
    "    w_r = len(X_right) / len(X_node)\n",
    "    information_gain = entropy(Y) - (w_l * entropy(p_1_l) + w_r * entropy(p_1_r))\n",
    "    return information_gain"
   ]
  },
  {
   "cell_type": "code",
   "execution_count": 147,
   "id": "7843786a",
   "metadata": {},
   "outputs": [],
   "source": [
    "def getBestSplit(X, Y, node_indices):\n",
    "    m, n = X.shape\n",
    "    bft = -1\n",
    "    for i in range(n):\n",
    "        bft1 = informationGain(X, Y, node_indices, i)\n",
    "        if bft < bft1:\n",
    "            best_feature = i\n",
    "            bft = bft1\n",
    "    return best_feature"
   ]
  },
  {
   "cell_type": "code",
   "execution_count": 148,
   "id": "f6c57831",
   "metadata": {},
   "outputs": [],
   "source": [
    "tree = []\n",
    "def buildTree(X, Y, node_indices, branch_name, max_depth, current_depth):\n",
    "    if current_depth == max_depth:\n",
    "        formatting = \" \"*current_depth + \"-\"*current_depth\n",
    "        print(formatting, \"%s leaf node with indices\" % branch_name, node_indices)\n",
    "        return\n",
    "    best_feature = getBestSplit(X, Y, node_indices) \n",
    "    tree.append((current_depth, branch_name, best_feature, node_indices))\n",
    "    formatting = \"-\"*current_depth\n",
    "    print(\"%s Depth %d, %s: Split on feature: %d\" % (formatting, current_depth, branch_name, best_feature))\n",
    "    left_indices, right_indices = splitDataSet(X, node_indices, best_feature)\n",
    "    buildTree(X, Y, left_indices, \"Left\", max_depth, current_depth + 1)\n",
    "    buildTree(X, Y, right_indices, \"Right\", max_depth, current_depth + 1)"
   ]
  },
  {
   "cell_type": "code",
   "execution_count": 150,
   "id": "f35d809d",
   "metadata": {},
   "outputs": [
    {
     "name": "stdout",
     "output_type": "stream",
     "text": [
      " Depth 0, Root: Split on feature: 2\n",
      "- Depth 1, Left: Split on feature: 0\n",
      "  -- Left leaf node with indices [0, 1, 4, 7]\n",
      "  -- Right leaf node with indices [5]\n",
      "- Depth 1, Right: Split on feature: 1\n",
      "  -- Left leaf node with indices [8]\n",
      "  -- Right leaf node with indices [2, 3, 6, 9]\n"
     ]
    }
   ],
   "source": [
    "buildTree(x_train_1, y_train_1, node_indices_1, 'Root', 2, 0)"
   ]
  },
  {
   "cell_type": "code",
   "execution_count": 156,
   "id": "3c619fc0",
   "metadata": {},
   "outputs": [
    {
     "name": "stdout",
     "output_type": "stream",
     "text": [
      " Depth 0, Root: Split on feature: 6\n",
      "- Depth 1, Left: Split on feature: 2\n",
      "-- Depth 2, Left: Split on feature: 0\n",
      "   --- Left leaf node with indices [3, 4, 17, 21, 37, 41, 47, 58, 62, 70, 89, 94, 99, 107, 116, 123, 128, 129]\n",
      "   --- Right leaf node with indices [16, 23, 26, 30, 32, 33, 42, 52, 53, 54, 60, 63, 80, 85, 93, 102, 108, 110]\n",
      "-- Depth 2, Right: Split on feature: 2\n",
      "   --- Left leaf node with indices []\n",
      "   --- Right leaf node with indices [1, 7, 9, 12, 14, 19, 24, 27, 29, 35, 36, 44, 46, 48, 51, 59, 71, 78, 82, 83, 84, 86, 91, 96, 100, 101, 103, 104, 106, 111, 112, 124, 127]\n",
      "- Depth 1, Right: Split on feature: 6\n",
      "-- Depth 2, Left: Split on feature: 0\n",
      "   --- Left leaf node with indices []\n",
      "   --- Right leaf node with indices []\n",
      "-- Depth 2, Right: Split on feature: 6\n",
      "   --- Left leaf node with indices []\n",
      "   --- Right leaf node with indices [0, 2, 5, 6, 8, 10, 11, 13, 15, 18, 20, 22, 25, 28, 31, 34, 38, 39, 40, 43, 45, 49, 50, 55, 56, 57, 61, 64, 65, 66, 67, 68, 69, 72, 73, 74, 75, 76, 77, 79, 81, 87, 88, 90, 92, 95, 97, 98, 105, 109, 113, 114, 115, 117, 118, 119, 120, 121, 122, 125, 126]\n"
     ]
    }
   ],
   "source": [
    "buildTree(x_train, y_train, node_indices, 'Root', 3, 0)"
   ]
  },
  {
   "cell_type": "code",
   "execution_count": null,
   "id": "a34aac94",
   "metadata": {},
   "outputs": [],
   "source": []
  }
 ],
 "metadata": {
  "kernelspec": {
   "display_name": "Python 3 (ipykernel)",
   "language": "python",
   "name": "python3"
  },
  "language_info": {
   "codemirror_mode": {
    "name": "ipython",
    "version": 3
   },
   "file_extension": ".py",
   "mimetype": "text/x-python",
   "name": "python",
   "nbconvert_exporter": "python",
   "pygments_lexer": "ipython3",
   "version": "3.10.7"
  }
 },
 "nbformat": 4,
 "nbformat_minor": 5
}
